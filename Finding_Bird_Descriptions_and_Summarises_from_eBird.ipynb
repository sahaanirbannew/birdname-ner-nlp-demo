{
  "nbformat": 4,
  "nbformat_minor": 0,
  "metadata": {
    "colab": {
      "provenance": [],
      "collapsed_sections": [],
      "authorship_tag": "ABX9TyNAtvrxX9FBdOF3UZUqd4r8",
      "include_colab_link": true
    },
    "kernelspec": {
      "name": "python3",
      "display_name": "Python 3"
    },
    "language_info": {
      "name": "python"
    }
  },
  "cells": [
    {
      "cell_type": "markdown",
      "metadata": {
        "id": "view-in-github",
        "colab_type": "text"
      },
      "source": [
        "<a href=\"https://colab.research.google.com/github/sahaanirbannew/birdname-ner-nlp-demo/blob/main/Finding_Bird_Descriptions_and_Summarises_from_eBird.ipynb\" target=\"_parent\"><img src=\"https://colab.research.google.com/assets/colab-badge.svg\" alt=\"Open In Colab\"/></a>"
      ]
    },
    {
      "cell_type": "code",
      "source": [
        "!pip install transformers"
      ],
      "metadata": {
        "id": "O6awVMqD6Ip5"
      },
      "execution_count": null,
      "outputs": []
    },
    {
      "cell_type": "code",
      "source": [
        "!pip install transformers sentencepiece sacremoses"
      ],
      "metadata": {
        "id": "doRF2r6HH-NG"
      },
      "execution_count": null,
      "outputs": []
    },
    {
      "cell_type": "code",
      "source": [
        "import requests\n",
        "import urllib.request \n",
        "from bs4 import BeautifulSoup \n",
        "from urllib.request import urlopen  \n",
        "import urllib.request\n",
        "import html.parser \n",
        "from requests.exceptions import HTTPError\n",
        "from socket import error as SocketError\n",
        "from http.cookiejar import CookieJar\n",
        "import pickle\n",
        "from urllib.request import build_opener, HTTPCookieProcessor\n",
        "from transformers import pipeline\n",
        "from googlesearch import search"
      ],
      "metadata": {
        "id": "JtAFHaEtsP1J"
      },
      "execution_count": 89,
      "outputs": []
    },
    {
      "cell_type": "code",
      "source": [
        "summarizer = pipeline(\"summarization\")"
      ],
      "metadata": {
        "id": "CeXxYSLb7DNk"
      },
      "execution_count": null,
      "outputs": []
    },
    {
      "cell_type": "code",
      "source": [
        "from transformers import AutoModelForQuestionAnswering, AutoTokenizer, pipeline\n",
        "model_name = \"deepset/roberta-base-squad2\"\n",
        "nlp_qa = pipeline('question-answering', model=model_name, tokenizer=model_name)"
      ],
      "metadata": {
        "id": "ZsQja3AuC3ie"
      },
      "execution_count": null,
      "outputs": []
    },
    {
      "cell_type": "code",
      "source": [
        "def load_commNames():\n",
        "  try:\n",
        "    dbfile = open('/content/bird_dict_comName', 'rb')     \n",
        "    bird_dict_comName = pickle.load(dbfile)\n",
        "    dbfile.close()\n",
        "    return bird_dict_comName\n",
        "  except Exception as e:\n",
        "    print(str(e))\n",
        "    \n",
        "def is_concern(speciesCode, ebird_api_key):\n",
        "  response_cs = requests.get(f\"https://species.birds.cornell.edu/bow/api/v1/auxspecies/\"+speciesCode+\"?category=conservation_status\",\n",
        "      headers={\n",
        "        \"X-eBirdApiToken\": ebird_api_key \n",
        "      }\n",
        "      ) \n",
        "  is_concern_ = response_cs.json()[0][\"description\"]\n",
        "  return is_concern_ \n",
        "\n",
        "def return_html_code(url):\n",
        "  opener = build_opener(HTTPCookieProcessor())\n",
        "  response = opener.open(eBird_link)\n",
        "  html = response.read() \n",
        "  return html\n",
        "\n",
        "def search_speciesCode_by_commName(commName,bird_dict_comName):\n",
        "  for key in bird_dict_comName:\n",
        "    if bird_dict_comName[key] == commName.lower():\n",
        "      return key\n",
        "  return \"\"\n",
        "\n",
        "def search_by_commonName_google(commonName): \n",
        "  results = search(commonName, tld=\"com\", num=3, stop=3, pause=2) \n",
        "  for result in results: \n",
        "    if str(result).find(\"ebird.org\") > -1:\n",
        "      eBird_link = result\n",
        "      speciesCode = eBird_link.split(\"https://ebird.org/species/\")[0]\n",
        "\n",
        "      return speciesCode, eBird_link\n",
        "\n",
        "def get_mid_tweet_text_process_2(query, cue, bird_description): \n",
        "  answer = ask_question_huggingfaceRoberta(query, bird_description)\n",
        "  if answer['score']>0.068: \n",
        "    final_answer = cue + answer['answer']\n",
        "    final_answer = summarizer(final_answer, max_length=int(len(final_answer)*0.75), min_length=0, do_sample=False)\n",
        "    return final_answer[0]['summary_text']\n",
        "  else: return \"\"\n",
        "\n",
        "def ask_question_huggingfaceRoberta(user_question, passage):  \n",
        "  passage = str(passage).replace(\"**\",\",\")\n",
        "  QA_input = {\n",
        "    'question': user_question,\n",
        "    'context': passage\n",
        "  }\n",
        "  ans = nlp_qa(QA_input)  \n",
        "  return(ans)"
      ],
      "metadata": {
        "id": "EWLIOaTzy-Io"
      },
      "execution_count": 151,
      "outputs": []
    },
    {
      "cell_type": "code",
      "execution_count": 148,
      "metadata": {
        "colab": {
          "base_uri": "https://localhost:8080/"
        },
        "id": "HZaBVz0osIBD",
        "outputId": "fb54c10b-7b19-46f1-a9f8-61febca3eb93"
      },
      "outputs": [
        {
          "output_type": "stream",
          "name": "stdout",
          "text": [
            "Enter common name: emereld dove\n",
            "emereld dove\n",
            "30\n",
            "emereld dove| Kolkata | 7 Sept 2022 Brightly-colored dove of the forest floor with bright green wings, coral-red bill, and ash-gray forehead. Male has #IndiAves #BBCWildlifePOTD #ThePhotoHour #birdphotography -with @shotsbynavin. More info: https://ebird.org/species/emedov2\n",
            "274\n",
            "-----\n"
          ]
        }
      ],
      "source": [
        "commName = input(\"Enter common name: \").lower().strip()\n",
        "bird_dict_comName = load_commNames() \n",
        "speciesCode = search_speciesCode_by_commName(commName,bird_dict_comName) \n",
        "\n",
        "if len(speciesCode) == 0:\n",
        "  speciesCode, eBird_link = search_by_commonName_google(commName)\n",
        "else: \n",
        "  eBird_link = \"https://ebird.org/species/\"+speciesCode\n",
        "botw_link =\"https://birdsoftheworld.org/bow/species/\"+speciesCode+\"/cur/introduction\" \n",
        "ebird_api_key = \"68c6i1pl67vt\"\n",
        "\n",
        "soup = BeautifulSoup(return_html_code(eBird_link), 'html.parser')\n",
        "mat = soup.find_all(\"p\", {\"class\": \"u-stack-sm\"})\n",
        "bird_description = mat[0].text\n",
        "#is_concern_ = is_concern(speciesCode, ebird_api_key)\n",
        "\n",
        "print(commName)\n",
        "\n",
        "\n",
        "header_tweet = commName + \"| Kolkata | 7 Sept 2022\" \n",
        "length = len(header_tweet)\n",
        "\n",
        "footer_tweet = \"-with @shotsbynavin. More info: \"+eBird_link\n",
        "length = length + len(footer_tweet)\n",
        "\n",
        "hashtags = \"#IndiAves #BBCWildlifePOTD #ThePhotoHour #birdphotography\" \n",
        "length = length + len(hashtags)\n",
        "avg_length_word = 3\n",
        "available_space = 280 - length\n",
        "\n",
        "len_complete_tweet = 281\n",
        "while len_complete_tweet > 280:\n",
        "  avg_length_word = avg_length_word +1 \n",
        "  app_words = int(available_space/avg_length_word)\n",
        "  print(app_words)\n",
        "  mid_tweet = summarizer(bird_description, max_length=app_words, min_length=0, do_sample=False)\n",
        "  mid_tweet_text = mid_tweet[0]['summary_text'].replace(\"'\",\"\").replace(\" .\",\".\").strip() \n",
        "\n",
        "  complete_tweet = header_tweet + \" \" + mid_tweet_text + \" \" + hashtags + \" \"+ footer_tweet\n",
        "  len_complete_tweet = len(complete_tweet)\n",
        "  print(complete_tweet)\n",
        "  print(len(complete_tweet))\n",
        "  print(\"-----\")"
      ]
    },
    {
      "cell_type": "code",
      "source": [
        "bird_description"
      ],
      "metadata": {
        "colab": {
          "base_uri": "https://localhost:8080/",
          "height": 89
        },
        "id": "YR5ufOMEAaH0",
        "outputId": "71029af3-e3fd-45b1-9918-d215bce7f1dc"
      },
      "execution_count": 149,
      "outputs": [
        {
          "output_type": "execute_result",
          "data": {
            "text/plain": [
              "'Brightly-colored dove of the forest floor with bright green wings, coral-red bill, and ash-gray forehead. Male has an extensive silver cap which the female lacks. Inhabits various forested habitats from lowlands up into montane areas. Often encountered when flushed from a well-shaded trail. Gives a series of solemn-sounding hiccuping coos: “ti-woo, ti-woo, ti-woo.”'"
            ],
            "application/vnd.google.colaboratory.intrinsic+json": {
              "type": "string"
            }
          },
          "metadata": {},
          "execution_count": 149
        }
      ]
    },
    {
      "cell_type": "code",
      "source": [
        "query_set=[]\n",
        "query_set.append([\"where does this bird get its name from?\", \"The bird gets its name from \"])\n",
        "query_set.append([\"Tell me an interesting this about this bird?\", \"You know what's interesting abut this bird? it's \"])\n",
        "query_set.append([\"Where can we find this bird?\", \"We can find the bird in \"])\n",
        "query_set.append([\"how does the bird look?\", \"The bird is \"])\n",
        "query_set.append([\"Describe the bird?\", \"The bird is \"])\n",
        "\n",
        "\n",
        "\n",
        "for query in query_set:\n",
        "  tweet_content = get_mid_tweet_text_process_2(query[0], query[1], bird_description) \n",
        "  print(tweet_content)"
      ],
      "metadata": {
        "colab": {
          "base_uri": "https://localhost:8080/"
        },
        "id": "__1PxAXzD205",
        "outputId": "9b473c03-68d2-4971-851d-db9cc8c4edd2"
      },
      "execution_count": 153,
      "outputs": [
        {
          "output_type": "stream",
          "name": "stdout",
          "text": [
            "\n"
          ]
        },
        {
          "output_type": "stream",
          "name": "stderr",
          "text": [
            "Your max_length is set to 79, but you input_length is only 28. You might consider decreasing max_length manually, e.g. summarizer('...', max_length=14)\n"
          ]
        },
        {
          "output_type": "stream",
          "name": "stdout",
          "text": [
            " It's bright green wings, coral-red bill, and ash-gray forehead .\n",
            "\n"
          ]
        },
        {
          "output_type": "stream",
          "name": "stderr",
          "text": [
            "Your max_length is set to 21, but you input_length is only 9. You might consider decreasing max_length manually, e.g. summarizer('...', max_length=4)\n"
          ]
        },
        {
          "output_type": "stream",
          "name": "stdout",
          "text": [
            " The bird is Brightly-colored .\n"
          ]
        },
        {
          "output_type": "stream",
          "name": "stderr",
          "text": [
            "Your max_length is set to 24, but you input_length is only 10. You might consider decreasing max_length manually, e.g. summarizer('...', max_length=5)\n"
          ]
        },
        {
          "output_type": "stream",
          "name": "stdout",
          "text": [
            " The bird is Brightly-colored dove .\n"
          ]
        }
      ]
    },
    {
      "cell_type": "code",
      "source": [
        "!pip install Sentencepiece"
      ],
      "metadata": {
        "colab": {
          "base_uri": "https://localhost:8080/"
        },
        "id": "DVf7hg1DIXbP",
        "outputId": "6394c171-97f2-4234-c466-c2c1603a46dd"
      },
      "execution_count": 162,
      "outputs": [
        {
          "output_type": "stream",
          "name": "stdout",
          "text": [
            "Looking in indexes: https://pypi.org/simple, https://us-python.pkg.dev/colab-wheels/public/simple/\n",
            "Requirement already satisfied: Sentencepiece in /usr/local/lib/python3.7/dist-packages (0.1.97)\n"
          ]
        }
      ]
    },
    {
      "cell_type": "code",
      "source": [
        "import PegasusForConditionalGeneration\n",
        "import PegasusTokenizerFast\n",
        "model = PegasusForConditionalGeneration.from_pretrained(\"tuner007/pegasus_paraphrase\")\n",
        "tokenizer = PegasusTokenizerFast.from_pretrained(\"tuner007/pegasus_paraphrase\")"
      ],
      "metadata": {
        "colab": {
          "base_uri": "https://localhost:8080/",
          "height": 365
        },
        "id": "VcMPNTHdINYe",
        "outputId": "7775616d-7068-4617-e6b1-5e010ac7e4d9"
      },
      "execution_count": 158,
      "outputs": [
        {
          "output_type": "error",
          "ename": "ModuleNotFoundError",
          "evalue": "ignored",
          "traceback": [
            "\u001b[0;31m---------------------------------------------------------------------------\u001b[0m",
            "\u001b[0;31mModuleNotFoundError\u001b[0m                       Traceback (most recent call last)",
            "\u001b[0;32m<ipython-input-158-ffd7c784e0b2>\u001b[0m in \u001b[0;36m<module>\u001b[0;34m\u001b[0m\n\u001b[0;32m----> 1\u001b[0;31m \u001b[0;32mimport\u001b[0m \u001b[0mPegasusForConditionalGeneration\u001b[0m\u001b[0;34m\u001b[0m\u001b[0;34m\u001b[0m\u001b[0m\n\u001b[0m\u001b[1;32m      2\u001b[0m \u001b[0;32mimport\u001b[0m \u001b[0mPegasusTokenizerFast\u001b[0m\u001b[0;34m\u001b[0m\u001b[0;34m\u001b[0m\u001b[0m\n\u001b[1;32m      3\u001b[0m \u001b[0mmodel\u001b[0m \u001b[0;34m=\u001b[0m \u001b[0mPegasusForConditionalGeneration\u001b[0m\u001b[0;34m.\u001b[0m\u001b[0mfrom_pretrained\u001b[0m\u001b[0;34m(\u001b[0m\u001b[0;34m\"tuner007/pegasus_paraphrase\"\u001b[0m\u001b[0;34m)\u001b[0m\u001b[0;34m\u001b[0m\u001b[0;34m\u001b[0m\u001b[0m\n\u001b[1;32m      4\u001b[0m \u001b[0mtokenizer\u001b[0m \u001b[0;34m=\u001b[0m \u001b[0mPegasusTokenizerFast\u001b[0m\u001b[0;34m.\u001b[0m\u001b[0mfrom_pretrained\u001b[0m\u001b[0;34m(\u001b[0m\u001b[0;34m\"tuner007/pegasus_paraphrase\"\u001b[0m\u001b[0;34m)\u001b[0m\u001b[0;34m\u001b[0m\u001b[0;34m\u001b[0m\u001b[0m\n",
            "\u001b[0;31mModuleNotFoundError\u001b[0m: No module named 'PegasusForConditionalGeneration'",
            "",
            "\u001b[0;31m---------------------------------------------------------------------------\u001b[0;32m\nNOTE: If your import is failing due to a missing package, you can\nmanually install dependencies using either !pip or !apt.\n\nTo view examples of installing some common dependencies, click the\n\"Open Examples\" button below.\n\u001b[0;31m---------------------------------------------------------------------------\u001b[0m\n"
          ],
          "errorDetails": {
            "actions": [
              {
                "action": "open_url",
                "actionText": "Open Examples",
                "url": "/notebooks/snippets/importing_libraries.ipynb"
              }
            ]
          }
        }
      ]
    },
    {
      "cell_type": "code",
      "source": [
        "from transformers import PegasusForConditionalGeneration, PegasusTokenizer"
      ],
      "metadata": {
        "colab": {
          "base_uri": "https://localhost:8080/",
          "height": 329
        },
        "id": "CP8UUYUqJFg8",
        "outputId": "fe3484ea-982b-4e2c-89e7-61864a3bb575"
      },
      "execution_count": 163,
      "outputs": [
        {
          "output_type": "error",
          "ename": "ImportError",
          "evalue": "ignored",
          "traceback": [
            "\u001b[0;31m---------------------------------------------------------------------------\u001b[0m",
            "\u001b[0;31mImportError\u001b[0m                               Traceback (most recent call last)",
            "\u001b[0;32m<ipython-input-163-77286431db72>\u001b[0m in \u001b[0;36m<module>\u001b[0;34m\u001b[0m\n\u001b[0;32m----> 1\u001b[0;31m \u001b[0;32mfrom\u001b[0m \u001b[0mtransformers\u001b[0m \u001b[0;32mimport\u001b[0m \u001b[0mPegasusForConditionalGeneration\u001b[0m\u001b[0;34m,\u001b[0m \u001b[0mPegasusTokenizer\u001b[0m\u001b[0;34m\u001b[0m\u001b[0;34m\u001b[0m\u001b[0m\n\u001b[0m",
            "\u001b[0;31mImportError\u001b[0m: cannot import name 'PegasusTokenizer' from 'transformers' (/usr/local/lib/python3.7/dist-packages/transformers/__init__.py)",
            "",
            "\u001b[0;31m---------------------------------------------------------------------------\u001b[0;32m\nNOTE: If your import is failing due to a missing package, you can\nmanually install dependencies using either !pip or !apt.\n\nTo view examples of installing some common dependencies, click the\n\"Open Examples\" button below.\n\u001b[0;31m---------------------------------------------------------------------------\u001b[0m\n"
          ],
          "errorDetails": {
            "actions": [
              {
                "action": "open_url",
                "actionText": "Open Examples",
                "url": "/notebooks/snippets/importing_libraries.ipynb"
              }
            ]
          }
        }
      ]
    }
  ]
}
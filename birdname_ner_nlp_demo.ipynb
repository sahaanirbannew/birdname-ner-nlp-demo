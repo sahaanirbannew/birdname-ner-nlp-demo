{
  "nbformat": 4,
  "nbformat_minor": 0,
  "metadata": {
    "colab": {
      "provenance": [],
      "authorship_tag": "ABX9TyO/NcAr0l/WkitVYIdllMjP",
      "include_colab_link": true
    },
    "kernelspec": {
      "name": "python3",
      "display_name": "Python 3"
    },
    "language_info": {
      "name": "python"
    }
  },
  "cells": [
    {
      "cell_type": "markdown",
      "metadata": {
        "id": "view-in-github",
        "colab_type": "text"
      },
      "source": [
        "<a href=\"https://colab.research.google.com/github/sahaanirbannew/birdname-ner-nlp-demo/blob/main/birdname_ner_nlp_demo.ipynb\" target=\"_parent\"><img src=\"https://colab.research.google.com/assets/colab-badge.svg\" alt=\"Open In Colab\"/></a>"
      ]
    },
    {
      "cell_type": "code",
      "source": [
        "!pip install tweet-preprocessor\n",
        "!python -m spacy download en_core_web_sm"
      ],
      "metadata": {
        "id": "55QUyo2V2oSu"
      },
      "execution_count": null,
      "outputs": []
    },
    {
      "cell_type": "code",
      "execution_count": 11,
      "metadata": {
        "colab": {
          "base_uri": "https://localhost:8080/",
          "height": 52
        },
        "id": "jQAawFHl0zdx",
        "outputId": "22bb94f3-3983-47ae-c9fc-d494044950d8"
      },
      "outputs": [
        {
          "output_type": "display_data",
          "data": {
            "text/plain": [
              "<IPython.core.display.HTML object>"
            ],
            "text/html": [
              "<span class=\"tex2jax_ignore\"><div class=\"entities\" style=\"line-height: 2.5; direction: ltr\">some nice \n",
              "<mark class=\"entity\" style=\"background: #8de8e8; padding: 0.45em 0.6em; margin: 0 0.25em; line-height: 1; border-radius: 0.35em;\">\n",
              "    asian koel\n",
              "    <span style=\"font-size: 0.8em; font-weight: bold; line-height: 1; border-radius: 0.35em; vertical-align: middle; margin-left: 0.5rem\">BIRDNAME</span>\n",
              "</mark>\n",
              " songs here</div></span>"
            ]
          },
          "metadata": {}
        }
      ],
      "source": [
        "import spacy\n",
        "import re\n",
        "from zipfile import ZipFile\n",
        "\n",
        "\n",
        "\n",
        "colors = {\"BIRDNAME\": \"#8de8e8\"}\n",
        "options = {\"colors\": colors} \n",
        "\n",
        "\n",
        "def extract_model_best_from_archive():\n",
        "  file_name = \"/content/model-best.zip\"\n",
        "  with ZipFile(file_name, 'r') as zip:\n",
        "    zip.extractall(\"/content/model-best\")\n",
        "\n",
        "def basic_preprocess(tweet):\n",
        "  import preprocessor as p\n",
        "  p.set_options(p.OPT.EMOJI, p.OPT.MENTION, p.OPT.URL, p.OPT.SMILEY, p.OPT.NUMBER,p.OPT.HASHTAG)\n",
        "  tweet = tweet.lower()\n",
        "  tweet = tweet.replace(\"\\n\",\" \")  \n",
        "  tweet = tweet.replace(\"\\\\n\",\" \")\n",
        "  tweet = tweet.replace(\"'\",\"\") \n",
        "  tweet = p.clean(tweet)\n",
        "  tweet = re.sub(r'[^\\w\\s]', ' ', tweet)\n",
        "  tweet = re.sub(r' x..', '', tweet)\n",
        "  tweet = re.sub(r' +', ' ', tweet) #' +', ' '\n",
        "  #tweet = re.sub(r' n. ', '', tweet) \n",
        "  tweet = tweet.replace(\"x9c\",\"\")\n",
        "  tweet = tweet.strip()\n",
        "  return tweet\n",
        "\n",
        "extract_model_best_from_archive()\n",
        "nlp_ner = spacy.load(\"model-best\") \n",
        "\n",
        "\n",
        "def app_run(sentence):\n",
        "  sentence = basic_preprocess(sentence)\n",
        "  doc = nlp_ner(sentence)\n",
        "  spacy.displacy.render(doc, style=\"ent\", options= options, jupyter=True)\n",
        "\n",
        "app_run(\"some nice asian koel songs here\")"
      ]
    }
  ]
}